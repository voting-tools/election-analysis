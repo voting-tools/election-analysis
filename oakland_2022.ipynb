{
 "cells": [
  {
   "attachments": {},
   "cell_type": "markdown",
   "id": "139c2851",
   "metadata": {},
   "source": [
    "# 2022 general election for Oakland Unified Board of Education District 4"
   ]
  },
  {
   "attachments": {},
   "cell_type": "markdown",
   "id": "cd66ae37",
   "metadata": {},
   "source": [
    "This notebook creates a pref_voting ProfileWithTies object for the 2022 general election for Oakland Unified Board of Education District 4 (see https://ballotpedia.org/Oakland_Unified_School_District,_California,_elections\\_(2022)), using the CSV file available at https://dataverse.harvard.edu/file.xhtml?fileId=6938408&version=9.0.\n",
    "\n",
    "This election is of interest because it involved a majority cycle. It also involved a tabulation error for IRV: initially Nick Resnick was declared the winner, but after the tabulation error was discovered, Mike Hutchinson was declared the winner (see https://oaklandside.org/2023/03/07/judge-declares-mike-hutchinson-winner-of-ousd-school-board-race/).\n",
    "\n",
    "We note that only two voters submitted rankings with overvotes. We allow these ballots in the profile below, ignoring the overvotes."
   ]
  },
  {
   "cell_type": "code",
   "execution_count": 1,
   "id": "75fb971c",
   "metadata": {},
   "outputs": [],
   "source": [
    "from pref_voting.profiles_with_ties import *\n",
    "from pref_voting.voting_methods import *\n",
    "import csv\n",
    "import pandas as pd\n",
    "from collections import Counter, defaultdict"
   ]
  },
  {
   "cell_type": "code",
   "execution_count": 2,
   "id": "f42b6f0a",
   "metadata": {},
   "outputs": [
    {
     "name": "stdout",
     "output_type": "stream",
     "text": [
      "{0: 'NICK RESNICK', 1: 'MIKE HUTCHINSON', 2: 'PECOLIA MANIGO', 3: 'Write-in'}\n",
      "+------+-----+------+------+------+------+------+------+-----+------+------+------+-----+------+------+----+----+-----+----+----+----+---+-----+----+---+---+----+---+---+---+----+---+---+---+----+----+---+---+---+----+----+---+---+---+----+---+---+---+---+---+---+---+---+---+---+---+---+---+---+---+---+---+\n",
      "| 2286 | 908 | 3708 | 2161 | 4342 | 1796 | 1844 | 2223 | 720 | 2228 | 2428 | 1217 | 917 | 1413 | 1712 | 15 | 53 | 526 | 26 | 38 | 12 | 2 | 139 | 19 | 6 | 6 | 27 | 5 | 3 | 3 | 35 | 3 | 7 | 5 | 10 | 14 | 2 | 6 | 6 | 12 | 10 | 5 | 9 | 2 | 18 | 7 | 4 | 3 | 6 | 8 | 1 | 2 | 1 | 4 | 6 | 1 | 6 | 2 | 2 | 1 | 1 | 1 |\n",
      "+------+-----+------+------+------+------+------+------+-----+------+------+------+-----+------+------+----+----+-----+----+----+----+---+-----+----+---+---+----+---+---+---+----+---+---+---+----+----+---+---+---+----+----+---+---+---+----+---+---+---+---+---+---+---+---+---+---+---+---+---+---+---+---+---+\n",
      "|  1   |  0  |  0   |  0   |      |  1   |  2   |  0   |  2  |  1   |  2   |  1   |  0  |  2   |  2   | 2  | 3  |  1  | 0  | 1  | 2  | 3 |  3  | 1  | 2 | 2 | 1  | 3 | 3 | 3 | 2  | 2 | 3 | 0 | 1  | 0  | 0 | 3 | 1 | 3  | 3  | 0 | 1 | 1 | 3  | 2 | 0 | 3 | 0 | 3 | 3 | 1 | 0 | 2 | 1 | 3 | 0 | 0 | 1 | 2 | 2 | 1 |\n",
      "|      |  1  |      |  1   |      |  0   |      |  2   |  0  |  2   |  1   |  2   |  2  |  0   |  1   | 0  | 1  |  0  | 3  | 2  | 1  | 2 |     | 2  | 1 | 3 | 3  | 1 | 2 | 1 | 1  | 0 | 0 | 1 | 2  | 2  | 3 | 0 | 0 | 0  | 0  | 2 | 3 | 3 | 1  | 3 | 1 | 0 | 3 | 2 | 1 | 0 | 3 | 0 | 0 | 2 | 2 | 3 | 3 | 3 | 3 | 3 |\n",
      "|      |     |      |  2   |      |  2   |      |  1   |     |  0   |      |      |     |  1   |  0   | 3  | 2  |     |    | 0  | 0  | 0 |     | 3  | 3 |   |    | 2 | 1 | 0 | 3  | 1 | 2 | 2 | 3  | 3  | 1 | 2 | 2 |    | 1  | 3 | 2 | 2 |    | 1 | 3 | 1 | 2 | 1 | 0 | 3 | 2 | 3 | 3 |   | 1 | 1 | 0 | 1 | 0 | 0 |\n",
      "|      |     |      |      |      |      |      |      |     |      |      |      |     |      |      |    |    |     |    | 3  | 3  | 1 |     |    | 0 |   |    | 0 | 0 | 2 |    | 3 |   | 3 | 0  |    |   | 1 | 3 |    |    | 1 |   | 0 |    |   |   | 2 | 1 |   |   | 2 |   | 1 |   |   | 3 | 2 |   | 0 | 1 | 2 |\n",
      "+------+-----+------+------+------+------+------+------+-----+------+------+------+-----+------+------+----+----+-----+----+----+----+---+-----+----+---+---+----+---+---+---+----+---+---+---+----+----+---+---+---+----+----+---+---+---+----+---+---+---+---+---+---+---+---+---+---+---+---+---+---+---+---+---+\n"
     ]
    },
    {
     "data": {
      "image/png": "[encoded data removed]",
      "text/plain": [
       "<Figure size 640x480 with 1 Axes>"
      ]
     },
     "metadata": {},
     "output_type": "display_data"
    },
    {
     "name": "stdout",
     "output_type": "stream",
     "text": [
      "Borda (for Truncated Profiles) winner is {1}\n",
      "Instant Runoff (Truncated Linear Orders) winner is {1}\n",
      "Minimax winner is {1}\n",
      "Plurality winner is {0}\n"
     ]
    }
   ],
   "source": [
    "# Load the CSV file\n",
    "file_path = 'edata/Oakland_11082022_Schoolboarddistrict4.csv'  # Replace with your CSV file path\n",
    "election_data = pd.read_csv(file_path)\n",
    "\n",
    "# Function to process each voter's rankings, ignoring \"overvote\"\n",
    "def process_rankings(row):\n",
    "    seen_candidates = set()\n",
    "    ranking = defaultdict(list)\n",
    "    rank = 1\n",
    "    for i in range(1, 6):\n",
    "        candidate = row[f'rank{i}']\n",
    "        if candidate != 'overvote' and candidate != 'skipped' and candidate not in seen_candidates:\n",
    "            ranking[rank].append(candidate)\n",
    "            seen_candidates.add(candidate)\n",
    "            rank += 1\n",
    "    return {c: r for r, cs in ranking.items() for c in cs}\n",
    "\n",
    "# Apply the function and count occurrences of each ranking\n",
    "election_data['processed_rankings'] = election_data.apply(process_rankings, axis=1)\n",
    "ranking_counts = Counter(election_data['processed_rankings'].apply(tuple))\n",
    "\n",
    "# Create candidate list and set \"Write-in\" index last\n",
    "candidates = [c for c in set().union(*[r for r in ranking_counts]) if c != 'Write-in']\n",
    "candidates.append('Write-in')\n",
    "\n",
    "# Convert rankings to indices format\n",
    "candidate_to_index = {candidate: index for index, candidate in enumerate(candidates)}\n",
    "\n",
    "# Display the candidates and their indices for reference\n",
    "candidates_with_indices = {index: candidate for candidate, index in candidate_to_index.items()}\n",
    "print(candidates_with_indices)\n",
    "\n",
    "# Function to convert rankings (in tuple format) to indices and create dictionaries as keys\n",
    "def ranking_to_indices(ranking):\n",
    "    ranking_dict = {}\n",
    "    for rank, candidate in enumerate(ranking, start=1):\n",
    "        ranking_dict[candidate_to_index.get(candidate, -1)] = rank\n",
    "    return ranking_dict\n",
    "\n",
    "# Creating rankings with indices, ignoring ballots with \"overvote\"\n",
    "rankings = [ranking_to_indices(ranking) for ranking, count in ranking_counts.items()]\n",
    "rcounts = [count for ranking, count in ranking_counts.items()]\n",
    "\n",
    "# Create ProfileWithTies object\n",
    "profile = ProfileWithTies(rankings, rcounts)\n",
    "profile.display()\n",
    "\n",
    "# Treat unranked candidates as tied for last place below ranked candidates for the purposes of the margin graph\n",
    "profile.use_extended_strict_preference()\n",
    "\n",
    "# Display the margin graph\n",
    "profile.display_margin_graph()\n",
    "\n",
    "borda_for_profile_with_ties.display(profile)\n",
    "instant_runoff_for_truncated_linear_orders.display(profile)\n",
    "minimax.display(profile)\n",
    "plurality.display(profile)\n"
   ]
  },
  {
   "cell_type": "code",
   "execution_count": null,
   "id": "77192c86",
   "metadata": {},
   "outputs": [],
   "source": []
  }
 ],
 "metadata": {
  "@webio": {
   "lastCommId": null,
   "lastKernelId": null
  },
  "kernelspec": {
   "display_name": "Python 3",
   "language": "python",
   "name": "python3"
  },
  "language_info": {
   "codemirror_mode": {
    "name": "ipython",
    "version": 3
   },
   "file_extension": ".py",
   "mimetype": "text/x-python",
   "name": "python",
   "nbconvert_exporter": "python",
   "pygments_lexer": "ipython3",
   "version": "3.11.6"
  },
  "varInspector": {
   "cols": {
    "lenName": 16,
    "lenType": 16,
    "lenVar": 40
   },
   "kernels_config": {
    "python": {
     "delete_cmd_postfix": "",
     "delete_cmd_prefix": "del ",
     "library": "var_list.py",
     "varRefreshCmd": "print(var_dic_list())"
    },
    "r": {
     "delete_cmd_postfix": ") ",
     "delete_cmd_prefix": "rm(",
     "library": "var_list.r",
     "varRefreshCmd": "cat(var_dic_list()) "
    }
   },
   "types_to_exclude": [
    "module",
    "function",
    "builtin_function_or_method",
    "instance",
    "_Feature"
   ],
   "window_display": false
  }
 },
 "nbformat": 4,
 "nbformat_minor": 5
}
